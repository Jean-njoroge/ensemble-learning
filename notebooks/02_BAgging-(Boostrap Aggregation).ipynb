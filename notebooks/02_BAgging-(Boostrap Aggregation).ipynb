{
 "cells": [
  {
   "cell_type": "markdown",
   "metadata": {},
   "source": [
    "## Overview\n",
    "\n",
    " Bootstrap Aggregation(Bagging) is a general procedure used to reduce the variance in a predictive alogorithm such as decision trees,(classification and regression trees (CART)). One way to reduce the variance of an estimate is to average together multiple estimates. For example, we can train $M$ different trees $f_m$ on different subsets of the data (chosen randomly with replacement) and compute the ensemble: $$\n",
    "   f(x) = \\frac{1}{M}\\sum_{m=1}^{M}f_m(x) \n",
    "$$\n",
    " > >\n",
    " Bagging adopts bootstrap sampling to obtain the data subsets for training the bases learning, and for aggregating the outputs of the base learner using voting for classification and averaging for regression. \n",
    " \n",
    "The method aims to improve the accuracy by creating an improved composite classifier, by combining the various outputs of learned classifiers into a single prediction.\n",
    "\n",
    "The three bagging models covered in this section\n",
    "are as follows:\n",
    "  * Bagged Decision Trees.   \n",
    "  * Random Forest.\n",
    "  * Extra Trees.\n",
    "  "
   ]
  },
  {
   "cell_type": "code",
   "execution_count": 2,
   "metadata": {
    "collapsed": true
   },
   "outputs": [],
   "source": [
    "%matplotlib inline\n",
    "import itertools\n",
    "import matplotlib.gridspec as gridspec\n",
    "from matplotlib import pyplot as plt\n",
    "import seaborn as sns\n",
    "plt.style.use('fivethirtyeight')\n",
    "sns.set_style(\"white\")\n",
    "#-----------------------------------------------------\n",
    "import pandas as pd\n",
    "import numpy as np\n",
    "\n",
    "#----Model selection--------------------------------\n",
    "from sklearn.model_selection import train_test_split\n",
    "from sklearn.datasets import load_iris\n",
    "from sklearn import datasets\n",
    "#----------------------------------------------------\n",
    "\n",
    "from sklearn.tree import DecisionTreeClassifier\n",
    "from sklearn.neighbors import KNeighborsClassifier\n",
    "from sklearn.linear_model import LogisticRegression\n",
    "from sklearn.ensemble import RandomForestClassifier\n",
    "\n",
    "from sklearn.ensemble import BaggingClassifier\n",
    "from sklearn.model_selection import cross_val_score, train_test_split\n",
    "\n",
    "from mlxtend.plotting import plot_learning_curves\n",
    "from mlxtend.plotting import plot_decision_regions\n",
    "np.random.seed(0)"
   ]
  },
  {
   "cell_type": "markdown",
   "metadata": {},
   "source": [
    "### Bagged Decision Trees\n",
    "*Bagging* performs best with algorithms that have high variance. A popular example are decision trees, often constructed without pruning."
   ]
  },
  {
   "cell_type": "markdown",
   "metadata": {},
   "source": [
    "### Load the dataset\n",
    "First, let's separate our target (y) features from our input (X) features:"
   ]
  },
  {
   "cell_type": "code",
   "execution_count": 3,
   "metadata": {},
   "outputs": [],
   "source": [
    "url = \"https://goo.gl/vhm1eU\"\n",
    "names = ['preg', 'plas', 'pres', 'skin', 'test', 'mass', 'pedi', 'age', 'class'] \n",
    "dataframe = pd.read_csv(url, names=names)\n",
    "array = dataframe.values"
   ]
  },
  {
   "cell_type": "code",
   "execution_count": 4,
   "metadata": {},
   "outputs": [
    {
     "data": {
      "text/plain": [
       "Index(['preg', 'plas', 'pres', 'skin', 'test', 'mass', 'pedi', 'age', 'class'], dtype='object')"
      ]
     },
     "execution_count": 4,
     "metadata": {},
     "output_type": "execute_result"
    }
   ],
   "source": [
    "dataframe.columns"
   ]
  },
  {
   "cell_type": "markdown",
   "metadata": {},
   "source": [
    "### Split data into training and test sets for evaluating our model\n",
    "\n",
    "Splitting the data into training and test sets at the beginning of your modeling workflow is crucial for getting a realistic estimate of your model's performance.\n",
    "\n",
    " * Lets set aside 20% of the data as a test set for evaluating our model. Additionally, we set\n",
    " arbitrary \"random state\" (a.k.a. seed) so that we can reproduce our results.\n",
    " * Finally, it's good practice to stratify your sample by the target variable. This will ensure your training set looks similar to your test set, making your evaluation metrics more reliable."
   ]
  },
  {
   "cell_type": "code",
   "execution_count": 6,
   "metadata": {},
   "outputs": [
    {
     "name": "stderr",
     "output_type": "stream",
     "text": [
      "/Users/sheeroh/anaconda/lib/python3.6/site-packages/sklearn/cross_validation.py:41: DeprecationWarning: This module was deprecated in version 0.18 in favor of the model_selection module into which all the refactored classes and functions are moved. Also note that the interface of the new CV iterators are different from that of this module. This module will be removed in 0.20.\n",
      "  \"This module will be removed in 0.20.\", DeprecationWarning)\n"
     ]
    }
   ],
   "source": [
    "# character from the beginning to position 8 (excluded)\n",
    "\n",
    "from sklearn import cross_validation\n",
    "\n",
    "X = array[:,0:8]\n",
    "y = array[:,8]\n",
    "num_folds = 10\n",
    "num_instances = len(X)\n",
    "seed = 7\n",
    "kfold = cross_validation.KFold(n=num_instances, n_folds=num_folds, random_state=seed) \n",
    "num_trees = 100\n",
    "max_features = 7"
   ]
  },
  {
   "cell_type": "code",
   "execution_count": 7,
   "metadata": {},
   "outputs": [
    {
     "data": {
      "text/plain": [
       "((614, 8), (614,), (154, 8), (154,))"
      ]
     },
     "execution_count": 7,
     "metadata": {},
     "output_type": "execute_result"
    }
   ],
   "source": [
    "##Split data set in train 80% and test 20%\n",
    "X_train, X_test, y_train, y_test = train_test_split(X, y, \n",
    "                                                    test_size=0.2, \n",
    "                                                    random_state=123,\n",
    "                                                    stratify=y)\n",
    "X_train.shape, y_train.shape, X_test.shape, y_test.shape"
   ]
  },
  {
   "cell_type": "code",
   "execution_count": 8,
   "metadata": {},
   "outputs": [
    {
     "name": "stdout",
     "output_type": "stream",
     "text": [
      "Accuracy: 0.718 (+/- 0.03) [Decision Tree]\n",
      "Accuracy: 0.740 (+/- 0.02) [Bagging Tree]\n",
      "Accuracy: 0.757 (+/- 0.02) [Random Forest]\n",
      "Accuracy: 0.762 (+/- 0.02) [Extra Trees]\n"
     ]
    }
   ],
   "source": [
    "from sklearn.tree import DecisionTreeClassifier\n",
    "from sklearn.ensemble import RandomForestClassifier, BaggingClassifier, ExtraTreesClassifier\n",
    "\n",
    "# Initializing Classifiers\n",
    "clf1 = DecisionTreeClassifier(criterion='entropy', max_depth=1)\n",
    "bagging1 = BaggingClassifier(base_estimator=clf1, \n",
    "                             n_estimators=num_trees, \n",
    "                             max_samples=0.8, \n",
    "                             max_features=0.8,\n",
    "                            random_state =seed)\n",
    "bagging2 = RandomForestClassifier(n_estimators=num_trees, \n",
    "                                  max_features=max_features) \n",
    "\n",
    "bagging3 = model = ExtraTreesClassifier(n_estimators=num_trees, \n",
    "                                       max_features=max_features)\n",
    "\n",
    "label = ['Decision Tree', 'Bagging Tree', 'Random Forest', 'Extra Trees']\n",
    "\n",
    "clf_list = [clf1, bagging1, bagging2, bagging3]\n",
    "grid = itertools.product([0,1],repeat=3)\n",
    "\n",
    "\n",
    "for clf, label, grd in zip(clf_list, label, grid):        \n",
    "    scores = cross_val_score(clf, X, y, cv=3, scoring='accuracy')\n",
    "    print (\"Accuracy: %.3f (+/- %.2f) [%s]\" %(scores.mean(), scores.std(), label))\n"
   ]
  },
  {
   "cell_type": "code",
   "execution_count": 9,
   "metadata": {},
   "outputs": [
    {
     "data": {
      "image/png": "[encoded data removed]",
      "text/plain": [
       "<matplotlib.figure.Figure at 0x1a128be3c8>"
      ]
     },
     "metadata": {},
     "output_type": "display_data"
    }
   ],
   "source": [
    "plt.figure()\n",
    "plot_learning_curves(X_train, y_train, X_test, y_test, bagging1, print_model=False, style='ggplot')\n",
    "plt.ylim(ymax=0.4)\n",
    "plt.show()"
   ]
  },
  {
   "cell_type": "markdown",
   "metadata": {},
   "source": [
    "The figure above shows learning curves for the bagging tree ensemble. We can see an average error of $0.24$ on the training data and a U-shaped error curve for the testing data. The smallest gap between training and test errors occurs at around $20\\%$ of the training set size."
   ]
  },
  {
   "cell_type": "code",
   "execution_count": 14,
   "metadata": {
    "collapsed": true
   },
   "outputs": [],
   "source": [
    "num_est =list(map(int, np.linspace(1,100,20)))\n",
    "bg_clf_cv_mean = []\n",
    "bg_clf_cv_std = []\n",
    "\n",
    "for n_est in num_est:    \n",
    "    bg_clf = BaggingClassifier(base_estimator=clf1, \n",
    "                               n_estimators=n_est, \n",
    "                               max_samples=0.8, \n",
    "                               max_features=0.8)\n",
    "    scores = cross_val_score(bg_clf, X, y, cv=3, scoring='accuracy')\n",
    "    bg_clf_cv_mean.append(scores.mean())\n",
    "    bg_clf_cv_std.append(scores.std())"
   ]
  },
  {
   "cell_type": "code",
   "execution_count": 15,
   "metadata": {},
   "outputs": [
    {
     "data": {
      "image/png": "[encoded data removed]",
      "text/plain": [
       "<matplotlib.figure.Figure at 0x1a16182438>"
      ]
     },
     "metadata": {},
     "output_type": "display_data"
    }
   ],
   "source": [
    "plt.figure()\n",
    "(_, caps, _) = plt.errorbar(num_est, bg_clf_cv_mean, yerr=bg_clf_cv_std, c='blue', fmt='-o', capsize=5)\n",
    "\n",
    "for cap in caps:\n",
    "    cap.set_markeredgewidth(1)                                                                                                                                \n",
    "\n",
    "plt.ylabel('Accuracy'); plt.xlabel('Ensemble Size'); plt.title('Bagging Tree Ensemble');\n",
    "plt.show()"
   ]
  },
  {
   "cell_type": "code",
   "execution_count": 19,
   "metadata": {},
   "outputs": [
    {
     "data": {
      "text/plain": [
       "0.84561891515994436"
      ]
     },
     "execution_count": 19,
     "metadata": {},
     "output_type": "execute_result"
    }
   ],
   "source": [
    "import random\n",
    "from sklearn.tree import DecisionTreeClassifier\n",
    "from sklearn.ensemble import BaggingClassifier\n",
    "from sklearn.tree import export_graphviz\n",
    "from sklearn import cross_validation\n",
    "from sklearn.datasets import load_digits\n",
    "\n",
    "# getting digit dataset, cross validation init.\n",
    "i = random.randint(1,100000)\n",
    "digits = load_digits(n_class=10)\n",
    "X_train, X_test, y_train, y_test = cross_validation.train_test_split(digits.data, digits.target, test_size=0.4, random_state=i)\n",
    "\n",
    "# Decision tree classifier.\n",
    "clf = DecisionTreeClassifier()\n",
    "clf = clf.fit(X_train, y_train)\n",
    "clf.score(X_test, y_test)\n",
    "\n"
   ]
  },
  {
   "cell_type": "code",
   "execution_count": 18,
   "metadata": {},
   "outputs": [
    {
     "data": {
      "text/plain": [
       "0.8915159944367177"
      ]
     },
     "execution_count": 18,
     "metadata": {},
     "output_type": "execute_result"
    }
   ],
   "source": [
    "# Bagging classifier, \n",
    "bclf = BaggingClassifier()\n",
    "bclf = bclf.fit(X_train, y_train)\n",
    "bclf.score(X_test,  y_test)"
   ]
  },
  {
   "cell_type": "code",
   "execution_count": null,
   "metadata": {
    "collapsed": true
   },
   "outputs": [],
   "source": []
  }
 ],
 "metadata": {
  "kernelspec": {
   "display_name": "Python 3",
   "language": "python",
   "name": "python3"
  },
  "language_info": {
   "codemirror_mode": {
    "name": "ipython",
    "version": 3
   },
   "file_extension": ".py",
   "mimetype": "text/x-python",
   "name": "python",
   "nbconvert_exporter": "python",
   "pygments_lexer": "ipython3",
   "version": "3.6.1"
  }
 },
 "nbformat": 4,
 "nbformat_minor": 2
}
